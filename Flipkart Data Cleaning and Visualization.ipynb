{
 "cells": [
  {
   "cell_type": "code",
   "execution_count": 1,
   "metadata": {},
   "outputs": [],
   "source": [
    "import pandas as pd\n",
    "import seaborn as sns\n",
    "import matplotlib.pyplot as plt"
   ]
  },
  {
   "cell_type": "code",
   "execution_count": 2,
   "metadata": {},
   "outputs": [],
   "source": [
    "df = pd.read_csv('Flipkart_Mobiles.csv')\n",
    "# print(df.head())"
   ]
  },
  {
   "cell_type": "code",
   "execution_count": 3,
   "metadata": {
    "scrolled": true
   },
   "outputs": [
    {
     "name": "stdout",
     "output_type": "stream",
     "text": [
      "Index(['Unnamed: 0', 'Brand', 'Model_Name', 'Model_Number', 'Original_Price',\n",
      "       'Offered_Price', 'Discount', 'Rating', 'Rating_Count', 'Sim_Size',\n",
      "       'Sim_Type', 'Tech_Category', 'Touch_Screen', 'Display_Size', 'PCam_Avl',\n",
      "       'Primary_Camera', 'SCam_avl', 'Secondary_Camera', 'Int_Memory', 'RAM',\n",
      "       'Expandable_Memory', 'Memory_Card_Type', 'Memory_Card_Slot', 'Battery'],\n",
      "      dtype='object')\n"
     ]
    }
   ],
   "source": [
    "print(df.columns)  "
   ]
  },
  {
   "cell_type": "markdown",
   "metadata": {},
   "source": [
    "# Data Cleaning"
   ]
  },
  {
   "cell_type": "markdown",
   "metadata": {},
   "source": [
    "   ## Change the Columns names to Appropriate"
   ]
  },
  {
   "cell_type": "code",
   "execution_count": 4,
   "metadata": {},
   "outputs": [],
   "source": [
    "df.rename(columns = {'Int_Memory':'Int_Memory (GB)','Expandable_Memory':'Expandable_Memory (GB)'}, inplace = True) "
   ]
  },
  {
   "cell_type": "code",
   "execution_count": 5,
   "metadata": {},
   "outputs": [],
   "source": [
    "df.rename(columns = {'Expandable_Memory':'Expandable_Memory (GB)','Discount':'Discount (%)'}, inplace = True) "
   ]
  },
  {
   "cell_type": "code",
   "execution_count": 6,
   "metadata": {},
   "outputs": [],
   "source": [
    "df.rename(columns = {'Display_Size':'Display_Size (Inch)','RAM':'RAM (GB)'}, inplace = True) "
   ]
  },
  {
   "cell_type": "code",
   "execution_count": 7,
   "metadata": {},
   "outputs": [],
   "source": [
    "df.rename(columns = {'Original_Price':'Original_Price (₹)','Offered_Price':'Offered_Price (₹)'}, inplace = True) "
   ]
  },
  {
   "cell_type": "code",
   "execution_count": 8,
   "metadata": {},
   "outputs": [],
   "source": [
    "df.rename(columns = {'Battery':'Battery (mAh)'}, inplace = True) "
   ]
  },
  {
   "cell_type": "code",
   "execution_count": 9,
   "metadata": {},
   "outputs": [
    {
     "name": "stdout",
     "output_type": "stream",
     "text": [
      "Index(['Unnamed: 0', 'Brand', 'Model_Name', 'Model_Number',\n",
      "       'Original_Price (₹)', 'Offered_Price (₹)', 'Discount (%)', 'Rating',\n",
      "       'Rating_Count', 'Sim_Size', 'Sim_Type', 'Tech_Category', 'Touch_Screen',\n",
      "       'Display_Size (Inch)', 'PCam_Avl', 'Primary_Camera', 'SCam_avl',\n",
      "       'Secondary_Camera', 'Int_Memory (GB)', 'RAM (GB)',\n",
      "       'Expandable_Memory (GB)', 'Memory_Card_Type', 'Memory_Card_Slot',\n",
      "       'Battery (mAh)'],\n",
      "      dtype='object')\n"
     ]
    }
   ],
   "source": [
    "print(df.columns)  "
   ]
  },
  {
   "cell_type": "code",
   "execution_count": 10,
   "metadata": {},
   "outputs": [
    {
     "data": {
      "text/html": [
       "<div>\n",
       "<style scoped>\n",
       "    .dataframe tbody tr th:only-of-type {\n",
       "        vertical-align: middle;\n",
       "    }\n",
       "\n",
       "    .dataframe tbody tr th {\n",
       "        vertical-align: top;\n",
       "    }\n",
       "\n",
       "    .dataframe thead th {\n",
       "        text-align: right;\n",
       "    }\n",
       "</style>\n",
       "<table border=\"1\" class=\"dataframe\">\n",
       "  <thead>\n",
       "    <tr style=\"text-align: right;\">\n",
       "      <th></th>\n",
       "      <th>Unnamed: 0</th>\n",
       "      <th>Brand</th>\n",
       "      <th>Model_Name</th>\n",
       "      <th>Model_Number</th>\n",
       "      <th>Original_Price (₹)</th>\n",
       "      <th>Offered_Price (₹)</th>\n",
       "      <th>Discount (%)</th>\n",
       "      <th>Rating</th>\n",
       "      <th>Rating_Count</th>\n",
       "      <th>Sim_Size</th>\n",
       "      <th>...</th>\n",
       "      <th>PCam_Avl</th>\n",
       "      <th>Primary_Camera</th>\n",
       "      <th>SCam_avl</th>\n",
       "      <th>Secondary_Camera</th>\n",
       "      <th>Int_Memory (GB)</th>\n",
       "      <th>RAM (GB)</th>\n",
       "      <th>Expandable_Memory (GB)</th>\n",
       "      <th>Memory_Card_Type</th>\n",
       "      <th>Memory_Card_Slot</th>\n",
       "      <th>Battery (mAh)</th>\n",
       "    </tr>\n",
       "  </thead>\n",
       "  <tbody>\n",
       "    <tr>\n",
       "      <th>0</th>\n",
       "      <td>0</td>\n",
       "      <td>Redmi</td>\n",
       "      <td>Redmi Note 8</td>\n",
       "      <td>MZB8191IN / MZB07R4IN</td>\n",
       "      <td>12,999</td>\n",
       "      <td>11,499</td>\n",
       "      <td>11% off</td>\n",
       "      <td>4.4</td>\n",
       "      <td>39,812 Ratings &amp; 2,894 Reviews</td>\n",
       "      <td>Nano + Nano</td>\n",
       "      <td>...</td>\n",
       "      <td>Yes</td>\n",
       "      <td>48MP + 8MP + 2MP + 2MP</td>\n",
       "      <td>Yes</td>\n",
       "      <td>13MP Front Camera</td>\n",
       "      <td>64 GB</td>\n",
       "      <td>4 GB</td>\n",
       "      <td>512 GB</td>\n",
       "      <td>NaN</td>\n",
       "      <td>Dedicated Slot</td>\n",
       "      <td>4000 mAh</td>\n",
       "    </tr>\n",
       "    <tr>\n",
       "      <th>1</th>\n",
       "      <td>1</td>\n",
       "      <td>Redmi</td>\n",
       "      <td>9i</td>\n",
       "      <td>MZB0818IN</td>\n",
       "      <td>10,999</td>\n",
       "      <td>8,999</td>\n",
       "      <td>18% off</td>\n",
       "      <td>4.3</td>\n",
       "      <td>1,14,202 Ratings &amp; 6,649 Reviews</td>\n",
       "      <td>Nano + Nano</td>\n",
       "      <td>...</td>\n",
       "      <td>Yes</td>\n",
       "      <td>13MP Rear Camera</td>\n",
       "      <td>Yes</td>\n",
       "      <td>5MP Front Camera</td>\n",
       "      <td>128 GB</td>\n",
       "      <td>4 GB</td>\n",
       "      <td>512 GB</td>\n",
       "      <td>microSD</td>\n",
       "      <td>Dedicated Slot</td>\n",
       "      <td>5000 mAh</td>\n",
       "    </tr>\n",
       "    <tr>\n",
       "      <th>2</th>\n",
       "      <td>2</td>\n",
       "      <td>Redmi</td>\n",
       "      <td>9i</td>\n",
       "      <td>MZB080TIN / MZB0815IN</td>\n",
       "      <td>9,999</td>\n",
       "      <td>8,299</td>\n",
       "      <td>17% off</td>\n",
       "      <td>4.3</td>\n",
       "      <td>1,14,202 Ratings &amp; 6,649 Reviews</td>\n",
       "      <td>Nano + Nano</td>\n",
       "      <td>...</td>\n",
       "      <td>Yes</td>\n",
       "      <td>13MP Rear Camera</td>\n",
       "      <td>Yes</td>\n",
       "      <td>5MP Front Camera</td>\n",
       "      <td>64 GB</td>\n",
       "      <td>4 GB</td>\n",
       "      <td>512 GB</td>\n",
       "      <td>microSD</td>\n",
       "      <td>Dedicated Slot</td>\n",
       "      <td>5000 mAh</td>\n",
       "    </tr>\n",
       "    <tr>\n",
       "      <th>3</th>\n",
       "      <td>3</td>\n",
       "      <td>Realme</td>\n",
       "      <td>Narzo 20</td>\n",
       "      <td>RMX2193</td>\n",
       "      <td>13,999</td>\n",
       "      <td>11,499</td>\n",
       "      <td>17% off</td>\n",
       "      <td>4.3</td>\n",
       "      <td>1,85,170 Ratings &amp; 15,011 Reviews</td>\n",
       "      <td>Nano</td>\n",
       "      <td>...</td>\n",
       "      <td>Yes</td>\n",
       "      <td>48MP + 8MP + 2MP</td>\n",
       "      <td>Yes</td>\n",
       "      <td>8MP Front Camera</td>\n",
       "      <td>128 GB</td>\n",
       "      <td>4 GB</td>\n",
       "      <td>256 GB</td>\n",
       "      <td>microSD</td>\n",
       "      <td>Dedicated Slot</td>\n",
       "      <td>6000 mAh</td>\n",
       "    </tr>\n",
       "    <tr>\n",
       "      <th>4</th>\n",
       "      <td>4</td>\n",
       "      <td>Realme</td>\n",
       "      <td>Narzo 20</td>\n",
       "      <td>RMX2193</td>\n",
       "      <td>13,999</td>\n",
       "      <td>11,499</td>\n",
       "      <td>17% off</td>\n",
       "      <td>4.3</td>\n",
       "      <td>1,85,169 Ratings &amp; 15,011 Reviews</td>\n",
       "      <td>Nano</td>\n",
       "      <td>...</td>\n",
       "      <td>Yes</td>\n",
       "      <td>48MP + 8MP + 2MP</td>\n",
       "      <td>Yes</td>\n",
       "      <td>8MP Front Camera</td>\n",
       "      <td>128 GB</td>\n",
       "      <td>4 GB</td>\n",
       "      <td>256 GB</td>\n",
       "      <td>microSD</td>\n",
       "      <td>Dedicated Slot</td>\n",
       "      <td>6000 mAh</td>\n",
       "    </tr>\n",
       "  </tbody>\n",
       "</table>\n",
       "<p>5 rows × 24 columns</p>\n",
       "</div>"
      ],
      "text/plain": [
       "   Unnamed: 0   Brand    Model_Name           Model_Number Original_Price (₹)  \\\n",
       "0           0   Redmi  Redmi Note 8  MZB8191IN / MZB07R4IN             12,999   \n",
       "1           1   Redmi            9i              MZB0818IN             10,999   \n",
       "2           2   Redmi            9i  MZB080TIN / MZB0815IN              9,999   \n",
       "3           3  Realme      Narzo 20                RMX2193             13,999   \n",
       "4           4  Realme      Narzo 20                RMX2193             13,999   \n",
       "\n",
       "  Offered_Price (₹) Discount (%)  Rating                       Rating_Count  \\\n",
       "0            11,499      11% off     4.4     39,812 Ratings & 2,894 Reviews   \n",
       "1             8,999      18% off     4.3   1,14,202 Ratings & 6,649 Reviews   \n",
       "2             8,299      17% off     4.3   1,14,202 Ratings & 6,649 Reviews   \n",
       "3            11,499      17% off     4.3  1,85,170 Ratings & 15,011 Reviews   \n",
       "4            11,499      17% off     4.3  1,85,169 Ratings & 15,011 Reviews   \n",
       "\n",
       "      Sim_Size  ... PCam_Avl          Primary_Camera SCam_avl  \\\n",
       "0  Nano + Nano  ...      Yes  48MP + 8MP + 2MP + 2MP      Yes   \n",
       "1  Nano + Nano  ...      Yes        13MP Rear Camera      Yes   \n",
       "2  Nano + Nano  ...      Yes        13MP Rear Camera      Yes   \n",
       "3         Nano  ...      Yes        48MP + 8MP + 2MP      Yes   \n",
       "4         Nano  ...      Yes        48MP + 8MP + 2MP      Yes   \n",
       "\n",
       "    Secondary_Camera Int_Memory (GB) RAM (GB) Expandable_Memory (GB)  \\\n",
       "0  13MP Front Camera           64 GB     4 GB                 512 GB   \n",
       "1   5MP Front Camera          128 GB     4 GB                 512 GB   \n",
       "2   5MP Front Camera           64 GB     4 GB                 512 GB   \n",
       "3   8MP Front Camera          128 GB     4 GB                 256 GB   \n",
       "4   8MP Front Camera          128 GB     4 GB                 256 GB   \n",
       "\n",
       "  Memory_Card_Type Memory_Card_Slot Battery (mAh)  \n",
       "0              NaN   Dedicated Slot      4000 mAh  \n",
       "1          microSD   Dedicated Slot      5000 mAh  \n",
       "2          microSD   Dedicated Slot      5000 mAh  \n",
       "3          microSD   Dedicated Slot      6000 mAh  \n",
       "4          microSD   Dedicated Slot      6000 mAh  \n",
       "\n",
       "[5 rows x 24 columns]"
      ]
     },
     "execution_count": 10,
     "metadata": {},
     "output_type": "execute_result"
    }
   ],
   "source": [
    "df.head()"
   ]
  },
  {
   "cell_type": "markdown",
   "metadata": {},
   "source": [
    "## Drop the 'Unnamed' (0th) column"
   ]
  },
  {
   "cell_type": "code",
   "execution_count": 11,
   "metadata": {},
   "outputs": [
    {
     "data": {
      "text/plain": [
       "Index(['Brand', 'Model_Name', 'Model_Number', 'Original_Price (₹)',\n",
       "       'Offered_Price (₹)', 'Discount (%)', 'Rating', 'Rating_Count',\n",
       "       'Sim_Size', 'Sim_Type', 'Tech_Category', 'Touch_Screen',\n",
       "       'Display_Size (Inch)', 'PCam_Avl', 'Primary_Camera', 'SCam_avl',\n",
       "       'Secondary_Camera', 'Int_Memory (GB)', 'RAM (GB)',\n",
       "       'Expandable_Memory (GB)', 'Memory_Card_Type', 'Memory_Card_Slot',\n",
       "       'Battery (mAh)'],\n",
       "      dtype='object')"
      ]
     },
     "execution_count": 11,
     "metadata": {},
     "output_type": "execute_result"
    }
   ],
   "source": [
    "df.drop(df.columns[[0,]],axis=1,inplace=True)\n",
    "data = df.copy(deep=True)\n",
    "df.columns"
   ]
  },
  {
   "cell_type": "code",
   "execution_count": 12,
   "metadata": {},
   "outputs": [
    {
     "data": {
      "text/html": [
       "<div>\n",
       "<style scoped>\n",
       "    .dataframe tbody tr th:only-of-type {\n",
       "        vertical-align: middle;\n",
       "    }\n",
       "\n",
       "    .dataframe tbody tr th {\n",
       "        vertical-align: top;\n",
       "    }\n",
       "\n",
       "    .dataframe thead th {\n",
       "        text-align: right;\n",
       "    }\n",
       "</style>\n",
       "<table border=\"1\" class=\"dataframe\">\n",
       "  <thead>\n",
       "    <tr style=\"text-align: right;\">\n",
       "      <th></th>\n",
       "      <th>Brand</th>\n",
       "      <th>Model_Name</th>\n",
       "      <th>Model_Number</th>\n",
       "      <th>Original_Price (₹)</th>\n",
       "      <th>Offered_Price (₹)</th>\n",
       "      <th>Discount (%)</th>\n",
       "      <th>Rating</th>\n",
       "      <th>Rating_Count</th>\n",
       "      <th>Sim_Size</th>\n",
       "      <th>Sim_Type</th>\n",
       "      <th>...</th>\n",
       "      <th>PCam_Avl</th>\n",
       "      <th>Primary_Camera</th>\n",
       "      <th>SCam_avl</th>\n",
       "      <th>Secondary_Camera</th>\n",
       "      <th>Int_Memory (GB)</th>\n",
       "      <th>RAM (GB)</th>\n",
       "      <th>Expandable_Memory (GB)</th>\n",
       "      <th>Memory_Card_Type</th>\n",
       "      <th>Memory_Card_Slot</th>\n",
       "      <th>Battery (mAh)</th>\n",
       "    </tr>\n",
       "  </thead>\n",
       "  <tbody>\n",
       "    <tr>\n",
       "      <th>0</th>\n",
       "      <td>Redmi</td>\n",
       "      <td>Redmi Note 8</td>\n",
       "      <td>MZB8191IN / MZB07R4IN</td>\n",
       "      <td>12,999</td>\n",
       "      <td>11,499</td>\n",
       "      <td>11% off</td>\n",
       "      <td>4.4</td>\n",
       "      <td>39,812 Ratings &amp; 2,894 Reviews</td>\n",
       "      <td>Nano + Nano</td>\n",
       "      <td>Dual Sim</td>\n",
       "      <td>...</td>\n",
       "      <td>Yes</td>\n",
       "      <td>48MP + 8MP + 2MP + 2MP</td>\n",
       "      <td>Yes</td>\n",
       "      <td>13MP Front Camera</td>\n",
       "      <td>64 GB</td>\n",
       "      <td>4 GB</td>\n",
       "      <td>512 GB</td>\n",
       "      <td>NaN</td>\n",
       "      <td>Dedicated Slot</td>\n",
       "      <td>4000 mAh</td>\n",
       "    </tr>\n",
       "    <tr>\n",
       "      <th>1</th>\n",
       "      <td>Redmi</td>\n",
       "      <td>9i</td>\n",
       "      <td>MZB0818IN</td>\n",
       "      <td>10,999</td>\n",
       "      <td>8,999</td>\n",
       "      <td>18% off</td>\n",
       "      <td>4.3</td>\n",
       "      <td>1,14,202 Ratings &amp; 6,649 Reviews</td>\n",
       "      <td>Nano + Nano</td>\n",
       "      <td>Dual Sim</td>\n",
       "      <td>...</td>\n",
       "      <td>Yes</td>\n",
       "      <td>13MP Rear Camera</td>\n",
       "      <td>Yes</td>\n",
       "      <td>5MP Front Camera</td>\n",
       "      <td>128 GB</td>\n",
       "      <td>4 GB</td>\n",
       "      <td>512 GB</td>\n",
       "      <td>microSD</td>\n",
       "      <td>Dedicated Slot</td>\n",
       "      <td>5000 mAh</td>\n",
       "    </tr>\n",
       "    <tr>\n",
       "      <th>2</th>\n",
       "      <td>Redmi</td>\n",
       "      <td>9i</td>\n",
       "      <td>MZB080TIN / MZB0815IN</td>\n",
       "      <td>9,999</td>\n",
       "      <td>8,299</td>\n",
       "      <td>17% off</td>\n",
       "      <td>4.3</td>\n",
       "      <td>1,14,202 Ratings &amp; 6,649 Reviews</td>\n",
       "      <td>Nano + Nano</td>\n",
       "      <td>Dual Sim</td>\n",
       "      <td>...</td>\n",
       "      <td>Yes</td>\n",
       "      <td>13MP Rear Camera</td>\n",
       "      <td>Yes</td>\n",
       "      <td>5MP Front Camera</td>\n",
       "      <td>64 GB</td>\n",
       "      <td>4 GB</td>\n",
       "      <td>512 GB</td>\n",
       "      <td>microSD</td>\n",
       "      <td>Dedicated Slot</td>\n",
       "      <td>5000 mAh</td>\n",
       "    </tr>\n",
       "    <tr>\n",
       "      <th>3</th>\n",
       "      <td>Realme</td>\n",
       "      <td>Narzo 20</td>\n",
       "      <td>RMX2193</td>\n",
       "      <td>13,999</td>\n",
       "      <td>11,499</td>\n",
       "      <td>17% off</td>\n",
       "      <td>4.3</td>\n",
       "      <td>1,85,170 Ratings &amp; 15,011 Reviews</td>\n",
       "      <td>Nano</td>\n",
       "      <td>Dual Sim</td>\n",
       "      <td>...</td>\n",
       "      <td>Yes</td>\n",
       "      <td>48MP + 8MP + 2MP</td>\n",
       "      <td>Yes</td>\n",
       "      <td>8MP Front Camera</td>\n",
       "      <td>128 GB</td>\n",
       "      <td>4 GB</td>\n",
       "      <td>256 GB</td>\n",
       "      <td>microSD</td>\n",
       "      <td>Dedicated Slot</td>\n",
       "      <td>6000 mAh</td>\n",
       "    </tr>\n",
       "    <tr>\n",
       "      <th>4</th>\n",
       "      <td>Realme</td>\n",
       "      <td>Narzo 20</td>\n",
       "      <td>RMX2193</td>\n",
       "      <td>13,999</td>\n",
       "      <td>11,499</td>\n",
       "      <td>17% off</td>\n",
       "      <td>4.3</td>\n",
       "      <td>1,85,169 Ratings &amp; 15,011 Reviews</td>\n",
       "      <td>Nano</td>\n",
       "      <td>Dual Sim</td>\n",
       "      <td>...</td>\n",
       "      <td>Yes</td>\n",
       "      <td>48MP + 8MP + 2MP</td>\n",
       "      <td>Yes</td>\n",
       "      <td>8MP Front Camera</td>\n",
       "      <td>128 GB</td>\n",
       "      <td>4 GB</td>\n",
       "      <td>256 GB</td>\n",
       "      <td>microSD</td>\n",
       "      <td>Dedicated Slot</td>\n",
       "      <td>6000 mAh</td>\n",
       "    </tr>\n",
       "  </tbody>\n",
       "</table>\n",
       "<p>5 rows × 23 columns</p>\n",
       "</div>"
      ],
      "text/plain": [
       "    Brand    Model_Name           Model_Number Original_Price (₹)  \\\n",
       "0   Redmi  Redmi Note 8  MZB8191IN / MZB07R4IN             12,999   \n",
       "1   Redmi            9i              MZB0818IN             10,999   \n",
       "2   Redmi            9i  MZB080TIN / MZB0815IN              9,999   \n",
       "3  Realme      Narzo 20                RMX2193             13,999   \n",
       "4  Realme      Narzo 20                RMX2193             13,999   \n",
       "\n",
       "  Offered_Price (₹) Discount (%)  Rating                       Rating_Count  \\\n",
       "0            11,499      11% off     4.4     39,812 Ratings & 2,894 Reviews   \n",
       "1             8,999      18% off     4.3   1,14,202 Ratings & 6,649 Reviews   \n",
       "2             8,299      17% off     4.3   1,14,202 Ratings & 6,649 Reviews   \n",
       "3            11,499      17% off     4.3  1,85,170 Ratings & 15,011 Reviews   \n",
       "4            11,499      17% off     4.3  1,85,169 Ratings & 15,011 Reviews   \n",
       "\n",
       "      Sim_Size  Sim_Type  ... PCam_Avl          Primary_Camera SCam_avl  \\\n",
       "0  Nano + Nano  Dual Sim  ...      Yes  48MP + 8MP + 2MP + 2MP      Yes   \n",
       "1  Nano + Nano  Dual Sim  ...      Yes        13MP Rear Camera      Yes   \n",
       "2  Nano + Nano  Dual Sim  ...      Yes        13MP Rear Camera      Yes   \n",
       "3         Nano  Dual Sim  ...      Yes        48MP + 8MP + 2MP      Yes   \n",
       "4         Nano  Dual Sim  ...      Yes        48MP + 8MP + 2MP      Yes   \n",
       "\n",
       "    Secondary_Camera Int_Memory (GB) RAM (GB) Expandable_Memory (GB)  \\\n",
       "0  13MP Front Camera           64 GB     4 GB                 512 GB   \n",
       "1   5MP Front Camera          128 GB     4 GB                 512 GB   \n",
       "2   5MP Front Camera           64 GB     4 GB                 512 GB   \n",
       "3   8MP Front Camera          128 GB     4 GB                 256 GB   \n",
       "4   8MP Front Camera          128 GB     4 GB                 256 GB   \n",
       "\n",
       "  Memory_Card_Type Memory_Card_Slot Battery (mAh)  \n",
       "0              NaN   Dedicated Slot      4000 mAh  \n",
       "1          microSD   Dedicated Slot      5000 mAh  \n",
       "2          microSD   Dedicated Slot      5000 mAh  \n",
       "3          microSD   Dedicated Slot      6000 mAh  \n",
       "4          microSD   Dedicated Slot      6000 mAh  \n",
       "\n",
       "[5 rows x 23 columns]"
      ]
     },
     "execution_count": 12,
     "metadata": {},
     "output_type": "execute_result"
    }
   ],
   "source": [
    "df.head()"
   ]
  },
  {
   "cell_type": "code",
   "execution_count": 13,
   "metadata": {},
   "outputs": [
    {
     "data": {
      "text/plain": [
       "Brand                       0\n",
       "Model_Name                  0\n",
       "Model_Number                4\n",
       "Original_Price (₹)          0\n",
       "Offered_Price (₹)           0\n",
       "Discount (%)              396\n",
       "Rating                      1\n",
       "Rating_Count               17\n",
       "Sim_Size                  276\n",
       "Sim_Type                    0\n",
       "Tech_Category               0\n",
       "Touch_Screen                2\n",
       "Display_Size (Inch)         0\n",
       "PCam_Avl                  268\n",
       "Primary_Camera             66\n",
       "SCam_avl                  353\n",
       "Secondary_Camera          464\n",
       "Int_Memory (GB)            19\n",
       "RAM (GB)                   75\n",
       "Expandable_Memory (GB)    408\n",
       "Memory_Card_Type          528\n",
       "Memory_Card_Slot          126\n",
       "Battery (mAh)              48\n",
       "dtype: int64"
      ]
     },
     "execution_count": 13,
     "metadata": {},
     "output_type": "execute_result"
    }
   ],
   "source": [
    "df.isnull().sum()"
   ]
  },
  {
   "cell_type": "markdown",
   "metadata": {},
   "source": [
    "## Fill the missing values "
   ]
  },
  {
   "cell_type": "code",
   "execution_count": 14,
   "metadata": {},
   "outputs": [
    {
     "data": {
      "text/plain": [
       "1"
      ]
     },
     "execution_count": 14,
     "metadata": {},
     "output_type": "execute_result"
    }
   ],
   "source": [
    "df['Rating'].isnull().sum()"
   ]
  },
  {
   "cell_type": "code",
   "execution_count": 15,
   "metadata": {},
   "outputs": [],
   "source": [
    "df['Rating'].fillna(0,inplace=True)"
   ]
  },
  {
   "cell_type": "markdown",
   "metadata": {},
   "source": [
    "### For the Phones with Raing_count information is missing are considered as no one given any rating and written any reviews"
   ]
  },
  {
   "cell_type": "code",
   "execution_count": 16,
   "metadata": {},
   "outputs": [
    {
     "data": {
      "text/plain": [
       "17"
      ]
     },
     "execution_count": 16,
     "metadata": {},
     "output_type": "execute_result"
    }
   ],
   "source": [
    "df['Rating_Count'].isnull().sum()"
   ]
  },
  {
   "cell_type": "code",
   "execution_count": 17,
   "metadata": {},
   "outputs": [],
   "source": [
    "df['Rating_Count'].fillna(\"0 Ratings & 0 Reviews \",inplace=True)"
   ]
  },
  {
   "cell_type": "markdown",
   "metadata": {},
   "source": [
    "### For the Phones with missing Discount information is considered as there is no Discount"
   ]
  },
  {
   "cell_type": "code",
   "execution_count": 18,
   "metadata": {},
   "outputs": [
    {
     "data": {
      "text/plain": [
       "396"
      ]
     },
     "execution_count": 18,
     "metadata": {},
     "output_type": "execute_result"
    }
   ],
   "source": [
    "df['Discount (%)'].isnull().sum()"
   ]
  },
  {
   "cell_type": "code",
   "execution_count": 19,
   "metadata": {},
   "outputs": [],
   "source": [
    "df['Discount (%)'].fillna(\"0% off\",inplace=True)"
   ]
  },
  {
   "cell_type": "markdown",
   "metadata": {},
   "source": [
    "### If the Primary Camaera and Secondary Camera information is not Available, presummed that these are not Camera Phones"
   ]
  },
  {
   "cell_type": "code",
   "execution_count": 20,
   "metadata": {},
   "outputs": [],
   "source": [
    "df['PCam_Avl'].fillna(\"No\",inplace=True)"
   ]
  },
  {
   "cell_type": "code",
   "execution_count": 21,
   "metadata": {},
   "outputs": [
    {
     "data": {
      "text/plain": [
       "353"
      ]
     },
     "execution_count": 21,
     "metadata": {},
     "output_type": "execute_result"
    }
   ],
   "source": [
    "df['SCam_avl'].isnull().sum()"
   ]
  },
  {
   "cell_type": "code",
   "execution_count": 22,
   "metadata": {},
   "outputs": [],
   "source": [
    "df['SCam_avl'].fillna(\"No\",inplace=True)"
   ]
  },
  {
   "cell_type": "code",
   "execution_count": 23,
   "metadata": {},
   "outputs": [
    {
     "data": {
      "text/plain": [
       "48"
      ]
     },
     "execution_count": 23,
     "metadata": {},
     "output_type": "execute_result"
    }
   ],
   "source": [
    "df['Battery (mAh)'].isnull().sum()"
   ]
  },
  {
   "cell_type": "markdown",
   "metadata": {},
   "source": [
    "### As the there will not be a Phone without a Battery, hence missing values are filled with Minimum Battery capacity"
   ]
  },
  {
   "cell_type": "code",
   "execution_count": 24,
   "metadata": {},
   "outputs": [],
   "source": [
    "df['Battery (mAh)'].fillna(\"1000 mAh\",inplace=True)"
   ]
  },
  {
   "cell_type": "markdown",
   "metadata": {},
   "source": [
    "### Make sure that the columns used for visualazation i.e. 'Brand','Rating','Original_Price (₹)','Offered_Price (₹)','Discount (%)', 'Rating','Rating_Count' are should not have null values"
   ]
  },
  {
   "cell_type": "code",
   "execution_count": 25,
   "metadata": {},
   "outputs": [
    {
     "data": {
      "text/plain": [
       "Brand                       0\n",
       "Model_Name                  0\n",
       "Model_Number                4\n",
       "Original_Price (₹)          0\n",
       "Offered_Price (₹)           0\n",
       "Discount (%)                0\n",
       "Rating                      0\n",
       "Rating_Count                0\n",
       "Sim_Size                  276\n",
       "Sim_Type                    0\n",
       "Tech_Category               0\n",
       "Touch_Screen                2\n",
       "Display_Size (Inch)         0\n",
       "PCam_Avl                    0\n",
       "Primary_Camera             66\n",
       "SCam_avl                    0\n",
       "Secondary_Camera          464\n",
       "Int_Memory (GB)            19\n",
       "RAM (GB)                   75\n",
       "Expandable_Memory (GB)    408\n",
       "Memory_Card_Type          528\n",
       "Memory_Card_Slot          126\n",
       "Battery (mAh)               0\n",
       "dtype: int64"
      ]
     },
     "execution_count": 25,
     "metadata": {},
     "output_type": "execute_result"
    }
   ],
   "source": [
    "df.isnull().sum()"
   ]
  },
  {
   "cell_type": "markdown",
   "metadata": {},
   "source": [
    "## Strip of the unwanted text from elements to convert the respective columns to Numeric type"
   ]
  },
  {
   "cell_type": "markdown",
   "metadata": {},
   "source": [
    "####  Remove the '%' symbol from 'Discount (%)' column values and make as Numerical "
   ]
  },
  {
   "cell_type": "code",
   "execution_count": 26,
   "metadata": {},
   "outputs": [],
   "source": [
    "df1 = df['Discount (%)'].replace(regex=['% off'], value='')"
   ]
  },
  {
   "cell_type": "code",
   "execution_count": 27,
   "metadata": {},
   "outputs": [],
   "source": [
    "df1 = df1.astype(str).astype(int)"
   ]
  },
  {
   "cell_type": "code",
   "execution_count": 28,
   "metadata": {},
   "outputs": [],
   "source": [
    "df['Discount (%)'] = pd.Series(df1)"
   ]
  },
  {
   "cell_type": "markdown",
   "metadata": {},
   "source": [
    "####  Remove the mAh symbol from 'Battery' column values and make as Numerical "
   ]
  },
  {
   "cell_type": "code",
   "execution_count": 29,
   "metadata": {},
   "outputs": [],
   "source": [
    "df1 = df['Battery (mAh)'].replace(regex=[' mAh|Mah'], value='')"
   ]
  },
  {
   "cell_type": "code",
   "execution_count": 30,
   "metadata": {},
   "outputs": [],
   "source": [
    "df1 = df1.astype(str).astype(int)"
   ]
  },
  {
   "cell_type": "code",
   "execution_count": 31,
   "metadata": {},
   "outputs": [],
   "source": [
    "df['Battery (mAh)'] = pd.Series(df1)"
   ]
  },
  {
   "cell_type": "code",
   "execution_count": 32,
   "metadata": {},
   "outputs": [],
   "source": [
    "df['PCam_Avl'] = df['PCam_Avl'].astype(str)"
   ]
  },
  {
   "cell_type": "code",
   "execution_count": 33,
   "metadata": {},
   "outputs": [],
   "source": [
    "df['SCam_avl'] = df['SCam_avl'].astype(str)"
   ]
  },
  {
   "cell_type": "markdown",
   "metadata": {},
   "source": [
    "####  Remove the ',' (comma) symbol from 'Original_Price (₹)' column values and make as Numerical "
   ]
  },
  {
   "cell_type": "code",
   "execution_count": 34,
   "metadata": {},
   "outputs": [],
   "source": [
    "df['Original_Price (₹)'] = df['Original_Price (₹)'] .replace(regex=[','],value='')"
   ]
  },
  {
   "cell_type": "code",
   "execution_count": 35,
   "metadata": {},
   "outputs": [],
   "source": [
    "df['Original_Price (₹)'] = df['Original_Price (₹)'].astype(str).astype(float)"
   ]
  },
  {
   "cell_type": "markdown",
   "metadata": {},
   "source": [
    "####  Remove the ',' (comma) symbol from 'Offered_Price (₹)' column values and make as Numerical "
   ]
  },
  {
   "cell_type": "code",
   "execution_count": 36,
   "metadata": {},
   "outputs": [],
   "source": [
    "df['Offered_Price (₹)'] = df['Offered_Price (₹)'] .replace(regex=[','],value='')"
   ]
  },
  {
   "cell_type": "code",
   "execution_count": 37,
   "metadata": {},
   "outputs": [],
   "source": [
    "df['Offered_Price (₹)'] = df['Offered_Price (₹)'].astype(str).astype(float)"
   ]
  },
  {
   "cell_type": "markdown",
   "metadata": {},
   "source": [
    "####  Separate the \"Rating Count\" column into two columns with columns name \"Rating_Count\" and \"Review_Count\""
   ]
  },
  {
   "cell_type": "code",
   "execution_count": 38,
   "metadata": {},
   "outputs": [],
   "source": [
    "df1 = df.Rating_Count.apply(lambda x: pd.Series(str(x).split(\"&\")))"
   ]
  },
  {
   "cell_type": "code",
   "execution_count": 39,
   "metadata": {},
   "outputs": [
    {
     "data": {
      "text/html": [
       "<div>\n",
       "<style scoped>\n",
       "    .dataframe tbody tr th:only-of-type {\n",
       "        vertical-align: middle;\n",
       "    }\n",
       "\n",
       "    .dataframe tbody tr th {\n",
       "        vertical-align: top;\n",
       "    }\n",
       "\n",
       "    .dataframe thead th {\n",
       "        text-align: right;\n",
       "    }\n",
       "</style>\n",
       "<table border=\"1\" class=\"dataframe\">\n",
       "  <thead>\n",
       "    <tr style=\"text-align: right;\">\n",
       "      <th></th>\n",
       "      <th>0</th>\n",
       "      <th>1</th>\n",
       "    </tr>\n",
       "  </thead>\n",
       "  <tbody>\n",
       "    <tr>\n",
       "      <th>0</th>\n",
       "      <td>39,812 Ratings</td>\n",
       "      <td>2,894 Reviews</td>\n",
       "    </tr>\n",
       "    <tr>\n",
       "      <th>1</th>\n",
       "      <td>1,14,202 Ratings</td>\n",
       "      <td>6,649 Reviews</td>\n",
       "    </tr>\n",
       "    <tr>\n",
       "      <th>2</th>\n",
       "      <td>1,14,202 Ratings</td>\n",
       "      <td>6,649 Reviews</td>\n",
       "    </tr>\n",
       "    <tr>\n",
       "      <th>3</th>\n",
       "      <td>1,85,170 Ratings</td>\n",
       "      <td>15,011 Reviews</td>\n",
       "    </tr>\n",
       "    <tr>\n",
       "      <th>4</th>\n",
       "      <td>1,85,169 Ratings</td>\n",
       "      <td>15,011 Reviews</td>\n",
       "    </tr>\n",
       "  </tbody>\n",
       "</table>\n",
       "</div>"
      ],
      "text/plain": [
       "                   0                1\n",
       "0    39,812 Ratings     2,894 Reviews\n",
       "1  1,14,202 Ratings     6,649 Reviews\n",
       "2  1,14,202 Ratings     6,649 Reviews\n",
       "3  1,85,170 Ratings    15,011 Reviews\n",
       "4  1,85,169 Ratings    15,011 Reviews"
      ]
     },
     "execution_count": 39,
     "metadata": {},
     "output_type": "execute_result"
    }
   ],
   "source": [
    "df1.head()"
   ]
  },
  {
   "cell_type": "code",
   "execution_count": 40,
   "metadata": {},
   "outputs": [],
   "source": [
    "df1[0] = df1[0].replace(regex=['Ratings'], value='')\n",
    "df1[1] = df1[1].replace(regex=['Reviews'], value='')"
   ]
  },
  {
   "cell_type": "code",
   "execution_count": 41,
   "metadata": {},
   "outputs": [
    {
     "data": {
      "text/html": [
       "<div>\n",
       "<style scoped>\n",
       "    .dataframe tbody tr th:only-of-type {\n",
       "        vertical-align: middle;\n",
       "    }\n",
       "\n",
       "    .dataframe tbody tr th {\n",
       "        vertical-align: top;\n",
       "    }\n",
       "\n",
       "    .dataframe thead th {\n",
       "        text-align: right;\n",
       "    }\n",
       "</style>\n",
       "<table border=\"1\" class=\"dataframe\">\n",
       "  <thead>\n",
       "    <tr style=\"text-align: right;\">\n",
       "      <th></th>\n",
       "      <th>0</th>\n",
       "      <th>1</th>\n",
       "    </tr>\n",
       "  </thead>\n",
       "  <tbody>\n",
       "    <tr>\n",
       "      <th>0</th>\n",
       "      <td>39,812</td>\n",
       "      <td>2,894</td>\n",
       "    </tr>\n",
       "    <tr>\n",
       "      <th>1</th>\n",
       "      <td>1,14,202</td>\n",
       "      <td>6,649</td>\n",
       "    </tr>\n",
       "    <tr>\n",
       "      <th>2</th>\n",
       "      <td>1,14,202</td>\n",
       "      <td>6,649</td>\n",
       "    </tr>\n",
       "    <tr>\n",
       "      <th>3</th>\n",
       "      <td>1,85,170</td>\n",
       "      <td>15,011</td>\n",
       "    </tr>\n",
       "    <tr>\n",
       "      <th>4</th>\n",
       "      <td>1,85,169</td>\n",
       "      <td>15,011</td>\n",
       "    </tr>\n",
       "  </tbody>\n",
       "</table>\n",
       "</div>"
      ],
      "text/plain": [
       "            0         1\n",
       "0    39,812      2,894 \n",
       "1  1,14,202      6,649 \n",
       "2  1,14,202      6,649 \n",
       "3  1,85,170     15,011 \n",
       "4  1,85,169     15,011 "
      ]
     },
     "execution_count": 41,
     "metadata": {},
     "output_type": "execute_result"
    }
   ],
   "source": [
    "df1.head()"
   ]
  },
  {
   "cell_type": "code",
   "execution_count": 42,
   "metadata": {},
   "outputs": [
    {
     "data": {
      "text/plain": [
       "'39,812 \\xa0'"
      ]
     },
     "execution_count": 42,
     "metadata": {},
     "output_type": "execute_result"
    }
   ],
   "source": [
    "df1[0][0]"
   ]
  },
  {
   "cell_type": "code",
   "execution_count": 43,
   "metadata": {},
   "outputs": [],
   "source": [
    "df1[0] = df1[0].astype(str)\n",
    "df1[1] = df1[1].astype(str)"
   ]
  },
  {
   "cell_type": "code",
   "execution_count": 44,
   "metadata": {},
   "outputs": [
    {
     "data": {
      "text/plain": [
       "0    object\n",
       "1    object\n",
       "dtype: object"
      ]
     },
     "execution_count": 44,
     "metadata": {},
     "output_type": "execute_result"
    }
   ],
   "source": [
    "df1.dtypes"
   ]
  },
  {
   "cell_type": "code",
   "execution_count": 45,
   "metadata": {},
   "outputs": [],
   "source": [
    "for i in range(len(df1.index)):\n",
    "    df1[0][i] = df1[0][i][::-1].replace(',', '.',1)[::-1].translate(str.maketrans('', '', \"\\xa0,\"))\n",
    "    df1[0][i] = df1[0][i].replace('.','')\n",
    "    df1[1][i] = df1[1][i][::-1].replace(',', '.',1)[::-1].translate(str.maketrans('', '', \"\\xa0,\"))\n",
    "    df1[1][i] = df1[1][i].replace('.','')"
   ]
  },
  {
   "cell_type": "code",
   "execution_count": 46,
   "metadata": {},
   "outputs": [
    {
     "data": {
      "text/plain": [
       "Brand                      object\n",
       "Model_Name                 object\n",
       "Model_Number               object\n",
       "Original_Price (₹)        float64\n",
       "Offered_Price (₹)         float64\n",
       "Discount (%)                int32\n",
       "Rating                    float64\n",
       "Rating_Count               object\n",
       "Sim_Size                   object\n",
       "Sim_Type                   object\n",
       "Tech_Category              object\n",
       "Touch_Screen               object\n",
       "Display_Size (Inch)        object\n",
       "PCam_Avl                   object\n",
       "Primary_Camera             object\n",
       "SCam_avl                   object\n",
       "Secondary_Camera           object\n",
       "Int_Memory (GB)            object\n",
       "RAM (GB)                   object\n",
       "Expandable_Memory (GB)     object\n",
       "Memory_Card_Type           object\n",
       "Memory_Card_Slot           object\n",
       "Battery (mAh)               int32\n",
       "Review_Count               object\n",
       "dtype: object"
      ]
     },
     "execution_count": 46,
     "metadata": {},
     "output_type": "execute_result"
    }
   ],
   "source": [
    "df['Rating_Count'] = pd.Series(df1[0])\n",
    "df['Review_Count'] = pd.Series(df1[1])\n",
    "df.dtypes"
   ]
  },
  {
   "cell_type": "code",
   "execution_count": 47,
   "metadata": {},
   "outputs": [
    {
     "data": {
      "text/plain": [
       "Brand                       0\n",
       "Model_Name                  0\n",
       "Model_Number                4\n",
       "Original_Price (₹)          0\n",
       "Offered_Price (₹)           0\n",
       "Discount (%)                0\n",
       "Rating                      0\n",
       "Rating_Count                0\n",
       "Sim_Size                  276\n",
       "Sim_Type                    0\n",
       "Tech_Category               0\n",
       "Touch_Screen                2\n",
       "Display_Size (Inch)         0\n",
       "PCam_Avl                    0\n",
       "Primary_Camera             66\n",
       "SCam_avl                    0\n",
       "Secondary_Camera          464\n",
       "Int_Memory (GB)            19\n",
       "RAM (GB)                   75\n",
       "Expandable_Memory (GB)    408\n",
       "Memory_Card_Type          528\n",
       "Memory_Card_Slot          126\n",
       "Battery (mAh)               0\n",
       "Review_Count                0\n",
       "dtype: int64"
      ]
     },
     "execution_count": 47,
     "metadata": {},
     "output_type": "execute_result"
    }
   ],
   "source": [
    "df.isnull().sum()"
   ]
  },
  {
   "cell_type": "markdown",
   "metadata": {},
   "source": [
    "### Convert 'Rating_Count' and 'Review_Count' values to Numerical"
   ]
  },
  {
   "cell_type": "code",
   "execution_count": 48,
   "metadata": {},
   "outputs": [
    {
     "data": {
      "text/plain": [
       "Brand                      object\n",
       "Model_Name                 object\n",
       "Model_Number               object\n",
       "Original_Price (₹)        float64\n",
       "Offered_Price (₹)         float64\n",
       "Discount (%)                int32\n",
       "Rating                    float64\n",
       "Rating_Count                int32\n",
       "Sim_Size                   object\n",
       "Sim_Type                   object\n",
       "Tech_Category              object\n",
       "Touch_Screen               object\n",
       "Display_Size (Inch)        object\n",
       "PCam_Avl                   object\n",
       "Primary_Camera             object\n",
       "SCam_avl                   object\n",
       "Secondary_Camera           object\n",
       "Int_Memory (GB)            object\n",
       "RAM (GB)                   object\n",
       "Expandable_Memory (GB)     object\n",
       "Memory_Card_Type           object\n",
       "Memory_Card_Slot           object\n",
       "Battery (mAh)               int32\n",
       "Review_Count                int32\n",
       "dtype: object"
      ]
     },
     "execution_count": 48,
     "metadata": {},
     "output_type": "execute_result"
    }
   ],
   "source": [
    "df['Rating_Count'] = df['Rating_Count'].astype(str).astype(float).astype(int)\n",
    "df['Review_Count'] = df['Review_Count'].astype(str).astype(float).astype(int)\n",
    "df.dtypes"
   ]
  },
  {
   "cell_type": "code",
   "execution_count": 49,
   "metadata": {},
   "outputs": [
    {
     "data": {
      "text/html": [
       "<div>\n",
       "<style scoped>\n",
       "    .dataframe tbody tr th:only-of-type {\n",
       "        vertical-align: middle;\n",
       "    }\n",
       "\n",
       "    .dataframe tbody tr th {\n",
       "        vertical-align: top;\n",
       "    }\n",
       "\n",
       "    .dataframe thead th {\n",
       "        text-align: right;\n",
       "    }\n",
       "</style>\n",
       "<table border=\"1\" class=\"dataframe\">\n",
       "  <thead>\n",
       "    <tr style=\"text-align: right;\">\n",
       "      <th></th>\n",
       "      <th>Brand</th>\n",
       "      <th>Model_Name</th>\n",
       "      <th>Model_Number</th>\n",
       "      <th>Original_Price (₹)</th>\n",
       "      <th>Offered_Price (₹)</th>\n",
       "      <th>Discount (%)</th>\n",
       "      <th>Rating</th>\n",
       "      <th>Rating_Count</th>\n",
       "      <th>Sim_Size</th>\n",
       "      <th>Sim_Type</th>\n",
       "      <th>...</th>\n",
       "      <th>Primary_Camera</th>\n",
       "      <th>SCam_avl</th>\n",
       "      <th>Secondary_Camera</th>\n",
       "      <th>Int_Memory (GB)</th>\n",
       "      <th>RAM (GB)</th>\n",
       "      <th>Expandable_Memory (GB)</th>\n",
       "      <th>Memory_Card_Type</th>\n",
       "      <th>Memory_Card_Slot</th>\n",
       "      <th>Battery (mAh)</th>\n",
       "      <th>Review_Count</th>\n",
       "    </tr>\n",
       "  </thead>\n",
       "  <tbody>\n",
       "    <tr>\n",
       "      <th>0</th>\n",
       "      <td>Redmi</td>\n",
       "      <td>Redmi Note 8</td>\n",
       "      <td>MZB8191IN / MZB07R4IN</td>\n",
       "      <td>12999.0</td>\n",
       "      <td>11499.0</td>\n",
       "      <td>11</td>\n",
       "      <td>4.4</td>\n",
       "      <td>39812</td>\n",
       "      <td>Nano + Nano</td>\n",
       "      <td>Dual Sim</td>\n",
       "      <td>...</td>\n",
       "      <td>48MP + 8MP + 2MP + 2MP</td>\n",
       "      <td>Yes</td>\n",
       "      <td>13MP Front Camera</td>\n",
       "      <td>64 GB</td>\n",
       "      <td>4 GB</td>\n",
       "      <td>512 GB</td>\n",
       "      <td>NaN</td>\n",
       "      <td>Dedicated Slot</td>\n",
       "      <td>4000</td>\n",
       "      <td>2894</td>\n",
       "    </tr>\n",
       "    <tr>\n",
       "      <th>1</th>\n",
       "      <td>Redmi</td>\n",
       "      <td>9i</td>\n",
       "      <td>MZB0818IN</td>\n",
       "      <td>10999.0</td>\n",
       "      <td>8999.0</td>\n",
       "      <td>18</td>\n",
       "      <td>4.3</td>\n",
       "      <td>114202</td>\n",
       "      <td>Nano + Nano</td>\n",
       "      <td>Dual Sim</td>\n",
       "      <td>...</td>\n",
       "      <td>13MP Rear Camera</td>\n",
       "      <td>Yes</td>\n",
       "      <td>5MP Front Camera</td>\n",
       "      <td>128 GB</td>\n",
       "      <td>4 GB</td>\n",
       "      <td>512 GB</td>\n",
       "      <td>microSD</td>\n",
       "      <td>Dedicated Slot</td>\n",
       "      <td>5000</td>\n",
       "      <td>6649</td>\n",
       "    </tr>\n",
       "    <tr>\n",
       "      <th>2</th>\n",
       "      <td>Redmi</td>\n",
       "      <td>9i</td>\n",
       "      <td>MZB080TIN / MZB0815IN</td>\n",
       "      <td>9999.0</td>\n",
       "      <td>8299.0</td>\n",
       "      <td>17</td>\n",
       "      <td>4.3</td>\n",
       "      <td>114202</td>\n",
       "      <td>Nano + Nano</td>\n",
       "      <td>Dual Sim</td>\n",
       "      <td>...</td>\n",
       "      <td>13MP Rear Camera</td>\n",
       "      <td>Yes</td>\n",
       "      <td>5MP Front Camera</td>\n",
       "      <td>64 GB</td>\n",
       "      <td>4 GB</td>\n",
       "      <td>512 GB</td>\n",
       "      <td>microSD</td>\n",
       "      <td>Dedicated Slot</td>\n",
       "      <td>5000</td>\n",
       "      <td>6649</td>\n",
       "    </tr>\n",
       "    <tr>\n",
       "      <th>3</th>\n",
       "      <td>Realme</td>\n",
       "      <td>Narzo 20</td>\n",
       "      <td>RMX2193</td>\n",
       "      <td>13999.0</td>\n",
       "      <td>11499.0</td>\n",
       "      <td>17</td>\n",
       "      <td>4.3</td>\n",
       "      <td>185170</td>\n",
       "      <td>Nano</td>\n",
       "      <td>Dual Sim</td>\n",
       "      <td>...</td>\n",
       "      <td>48MP + 8MP + 2MP</td>\n",
       "      <td>Yes</td>\n",
       "      <td>8MP Front Camera</td>\n",
       "      <td>128 GB</td>\n",
       "      <td>4 GB</td>\n",
       "      <td>256 GB</td>\n",
       "      <td>microSD</td>\n",
       "      <td>Dedicated Slot</td>\n",
       "      <td>6000</td>\n",
       "      <td>15011</td>\n",
       "    </tr>\n",
       "    <tr>\n",
       "      <th>4</th>\n",
       "      <td>Realme</td>\n",
       "      <td>Narzo 20</td>\n",
       "      <td>RMX2193</td>\n",
       "      <td>13999.0</td>\n",
       "      <td>11499.0</td>\n",
       "      <td>17</td>\n",
       "      <td>4.3</td>\n",
       "      <td>185169</td>\n",
       "      <td>Nano</td>\n",
       "      <td>Dual Sim</td>\n",
       "      <td>...</td>\n",
       "      <td>48MP + 8MP + 2MP</td>\n",
       "      <td>Yes</td>\n",
       "      <td>8MP Front Camera</td>\n",
       "      <td>128 GB</td>\n",
       "      <td>4 GB</td>\n",
       "      <td>256 GB</td>\n",
       "      <td>microSD</td>\n",
       "      <td>Dedicated Slot</td>\n",
       "      <td>6000</td>\n",
       "      <td>15011</td>\n",
       "    </tr>\n",
       "  </tbody>\n",
       "</table>\n",
       "<p>5 rows × 24 columns</p>\n",
       "</div>"
      ],
      "text/plain": [
       "    Brand    Model_Name           Model_Number  Original_Price (₹)  \\\n",
       "0   Redmi  Redmi Note 8  MZB8191IN / MZB07R4IN             12999.0   \n",
       "1   Redmi            9i              MZB0818IN             10999.0   \n",
       "2   Redmi            9i  MZB080TIN / MZB0815IN              9999.0   \n",
       "3  Realme      Narzo 20                RMX2193             13999.0   \n",
       "4  Realme      Narzo 20                RMX2193             13999.0   \n",
       "\n",
       "   Offered_Price (₹)  Discount (%)  Rating  Rating_Count     Sim_Size  \\\n",
       "0            11499.0            11     4.4         39812  Nano + Nano   \n",
       "1             8999.0            18     4.3        114202  Nano + Nano   \n",
       "2             8299.0            17     4.3        114202  Nano + Nano   \n",
       "3            11499.0            17     4.3        185170         Nano   \n",
       "4            11499.0            17     4.3        185169         Nano   \n",
       "\n",
       "   Sim_Type  ...          Primary_Camera SCam_avl   Secondary_Camera  \\\n",
       "0  Dual Sim  ...  48MP + 8MP + 2MP + 2MP      Yes  13MP Front Camera   \n",
       "1  Dual Sim  ...        13MP Rear Camera      Yes   5MP Front Camera   \n",
       "2  Dual Sim  ...        13MP Rear Camera      Yes   5MP Front Camera   \n",
       "3  Dual Sim  ...        48MP + 8MP + 2MP      Yes   8MP Front Camera   \n",
       "4  Dual Sim  ...        48MP + 8MP + 2MP      Yes   8MP Front Camera   \n",
       "\n",
       "  Int_Memory (GB) RAM (GB) Expandable_Memory (GB) Memory_Card_Type  \\\n",
       "0           64 GB     4 GB                 512 GB              NaN   \n",
       "1          128 GB     4 GB                 512 GB          microSD   \n",
       "2           64 GB     4 GB                 512 GB          microSD   \n",
       "3          128 GB     4 GB                 256 GB          microSD   \n",
       "4          128 GB     4 GB                 256 GB          microSD   \n",
       "\n",
       "  Memory_Card_Slot Battery (mAh) Review_Count  \n",
       "0   Dedicated Slot          4000         2894  \n",
       "1   Dedicated Slot          5000         6649  \n",
       "2   Dedicated Slot          5000         6649  \n",
       "3   Dedicated Slot          6000        15011  \n",
       "4   Dedicated Slot          6000        15011  \n",
       "\n",
       "[5 rows x 24 columns]"
      ]
     },
     "execution_count": 49,
     "metadata": {},
     "output_type": "execute_result"
    }
   ],
   "source": [
    "df.head()"
   ]
  },
  {
   "cell_type": "markdown",
   "metadata": {},
   "source": [
    "### Identify Duplicated rows and drop them"
   ]
  },
  {
   "cell_type": "code",
   "execution_count": 50,
   "metadata": {},
   "outputs": [
    {
     "data": {
      "text/plain": [
       "(960, 24)"
      ]
     },
     "execution_count": 50,
     "metadata": {},
     "output_type": "execute_result"
    }
   ],
   "source": [
    "df.shape"
   ]
  },
  {
   "cell_type": "code",
   "execution_count": 51,
   "metadata": {},
   "outputs": [
    {
     "data": {
      "text/plain": [
       "199"
      ]
     },
     "execution_count": 51,
     "metadata": {},
     "output_type": "execute_result"
    }
   ],
   "source": [
    "df.duplicated().sum()"
   ]
  },
  {
   "cell_type": "code",
   "execution_count": 52,
   "metadata": {},
   "outputs": [
    {
     "data": {
      "text/html": [
       "<div>\n",
       "<style scoped>\n",
       "    .dataframe tbody tr th:only-of-type {\n",
       "        vertical-align: middle;\n",
       "    }\n",
       "\n",
       "    .dataframe tbody tr th {\n",
       "        vertical-align: top;\n",
       "    }\n",
       "\n",
       "    .dataframe thead th {\n",
       "        text-align: right;\n",
       "    }\n",
       "</style>\n",
       "<table border=\"1\" class=\"dataframe\">\n",
       "  <thead>\n",
       "    <tr style=\"text-align: right;\">\n",
       "      <th></th>\n",
       "      <th>Brand</th>\n",
       "      <th>Model_Name</th>\n",
       "      <th>Model_Number</th>\n",
       "      <th>Original_Price (₹)</th>\n",
       "      <th>Offered_Price (₹)</th>\n",
       "      <th>Discount (%)</th>\n",
       "      <th>Rating</th>\n",
       "      <th>Rating_Count</th>\n",
       "      <th>Sim_Size</th>\n",
       "      <th>Sim_Type</th>\n",
       "      <th>...</th>\n",
       "      <th>Primary_Camera</th>\n",
       "      <th>SCam_avl</th>\n",
       "      <th>Secondary_Camera</th>\n",
       "      <th>Int_Memory (GB)</th>\n",
       "      <th>RAM (GB)</th>\n",
       "      <th>Expandable_Memory (GB)</th>\n",
       "      <th>Memory_Card_Type</th>\n",
       "      <th>Memory_Card_Slot</th>\n",
       "      <th>Battery (mAh)</th>\n",
       "      <th>Review_Count</th>\n",
       "    </tr>\n",
       "  </thead>\n",
       "  <tbody>\n",
       "    <tr>\n",
       "      <th>11</th>\n",
       "      <td>Infinix</td>\n",
       "      <td>Smart 4 Plus</td>\n",
       "      <td>X680D</td>\n",
       "      <td>9999.0</td>\n",
       "      <td>7999.0</td>\n",
       "      <td>20</td>\n",
       "      <td>4.4</td>\n",
       "      <td>101866</td>\n",
       "      <td>Nano + Nano + Micro SD Card Slot</td>\n",
       "      <td>Dual Sim</td>\n",
       "      <td>...</td>\n",
       "      <td>13MP + Depth Sensor</td>\n",
       "      <td>Yes</td>\n",
       "      <td>8MP Front Camera</td>\n",
       "      <td>32 GB</td>\n",
       "      <td>3 GB</td>\n",
       "      <td>256 GB</td>\n",
       "      <td>microSD</td>\n",
       "      <td>Dedicated Slot</td>\n",
       "      <td>6000</td>\n",
       "      <td>9061</td>\n",
       "    </tr>\n",
       "    <tr>\n",
       "      <th>12</th>\n",
       "      <td>Infinix</td>\n",
       "      <td>Smart 4 Plus</td>\n",
       "      <td>X680D</td>\n",
       "      <td>9999.0</td>\n",
       "      <td>7999.0</td>\n",
       "      <td>20</td>\n",
       "      <td>4.4</td>\n",
       "      <td>101866</td>\n",
       "      <td>Nano + Nano + Micro SD Card Slot</td>\n",
       "      <td>Dual Sim</td>\n",
       "      <td>...</td>\n",
       "      <td>13MP + Depth Sensor</td>\n",
       "      <td>Yes</td>\n",
       "      <td>8MP Front Camera</td>\n",
       "      <td>32 GB</td>\n",
       "      <td>3 GB</td>\n",
       "      <td>256 GB</td>\n",
       "      <td>microSD</td>\n",
       "      <td>Dedicated Slot</td>\n",
       "      <td>6000</td>\n",
       "      <td>9061</td>\n",
       "    </tr>\n",
       "    <tr>\n",
       "      <th>13</th>\n",
       "      <td>Infinix</td>\n",
       "      <td>Smart 4 Plus</td>\n",
       "      <td>X680D</td>\n",
       "      <td>9999.0</td>\n",
       "      <td>7999.0</td>\n",
       "      <td>20</td>\n",
       "      <td>4.4</td>\n",
       "      <td>101866</td>\n",
       "      <td>Nano + Nano + Micro SD Card Slot</td>\n",
       "      <td>Dual Sim</td>\n",
       "      <td>...</td>\n",
       "      <td>13MP + Depth Sensor</td>\n",
       "      <td>Yes</td>\n",
       "      <td>8MP Front Camera</td>\n",
       "      <td>32 GB</td>\n",
       "      <td>3 GB</td>\n",
       "      <td>256 GB</td>\n",
       "      <td>microSD</td>\n",
       "      <td>Dedicated Slot</td>\n",
       "      <td>6000</td>\n",
       "      <td>9061</td>\n",
       "    </tr>\n",
       "    <tr>\n",
       "      <th>16</th>\n",
       "      <td>Infinix</td>\n",
       "      <td>Smart 4</td>\n",
       "      <td>X680</td>\n",
       "      <td>8999.0</td>\n",
       "      <td>6999.0</td>\n",
       "      <td>22</td>\n",
       "      <td>4.4</td>\n",
       "      <td>6294</td>\n",
       "      <td>Nano + Nano</td>\n",
       "      <td>Dual Sim</td>\n",
       "      <td>...</td>\n",
       "      <td>13MP + Depth Sensor</td>\n",
       "      <td>Yes</td>\n",
       "      <td>8MP Front Camera</td>\n",
       "      <td>32 GB</td>\n",
       "      <td>2 GB</td>\n",
       "      <td>NaN</td>\n",
       "      <td>microSD</td>\n",
       "      <td>Dedicated Slot</td>\n",
       "      <td>6000</td>\n",
       "      <td>443</td>\n",
       "    </tr>\n",
       "    <tr>\n",
       "      <th>21</th>\n",
       "      <td>Realme</td>\n",
       "      <td>C11</td>\n",
       "      <td>RMX2185</td>\n",
       "      <td>8999.0</td>\n",
       "      <td>7499.0</td>\n",
       "      <td>16</td>\n",
       "      <td>4.4</td>\n",
       "      <td>335783</td>\n",
       "      <td>Nano + Nano</td>\n",
       "      <td>Dual Sim</td>\n",
       "      <td>...</td>\n",
       "      <td>13MP + 2MP</td>\n",
       "      <td>Yes</td>\n",
       "      <td>5MP Front Camera</td>\n",
       "      <td>32 GB</td>\n",
       "      <td>2 GB</td>\n",
       "      <td>256 GB</td>\n",
       "      <td>microSD</td>\n",
       "      <td>Dedicated Slot</td>\n",
       "      <td>5000</td>\n",
       "      <td>22759</td>\n",
       "    </tr>\n",
       "    <tr>\n",
       "      <th>...</th>\n",
       "      <td>...</td>\n",
       "      <td>...</td>\n",
       "      <td>...</td>\n",
       "      <td>...</td>\n",
       "      <td>...</td>\n",
       "      <td>...</td>\n",
       "      <td>...</td>\n",
       "      <td>...</td>\n",
       "      <td>...</td>\n",
       "      <td>...</td>\n",
       "      <td>...</td>\n",
       "      <td>...</td>\n",
       "      <td>...</td>\n",
       "      <td>...</td>\n",
       "      <td>...</td>\n",
       "      <td>...</td>\n",
       "      <td>...</td>\n",
       "      <td>...</td>\n",
       "      <td>...</td>\n",
       "      <td>...</td>\n",
       "      <td>...</td>\n",
       "    </tr>\n",
       "    <tr>\n",
       "      <th>942</th>\n",
       "      <td>Jmax</td>\n",
       "      <td>M40 &amp; M43 Combo</td>\n",
       "      <td>M40 &amp; M43 Combo</td>\n",
       "      <td>1399.0</td>\n",
       "      <td>1399.0</td>\n",
       "      <td>0</td>\n",
       "      <td>3.6</td>\n",
       "      <td>48</td>\n",
       "      <td>NaN</td>\n",
       "      <td>Dual Sim</td>\n",
       "      <td>...</td>\n",
       "      <td>1.3MP Rear Camera</td>\n",
       "      <td>No</td>\n",
       "      <td>NaN</td>\n",
       "      <td>32 MB</td>\n",
       "      <td>32 MB</td>\n",
       "      <td>NaN</td>\n",
       "      <td>NaN</td>\n",
       "      <td>Dedicated Slot</td>\n",
       "      <td>1050</td>\n",
       "      <td>8</td>\n",
       "    </tr>\n",
       "    <tr>\n",
       "      <th>943</th>\n",
       "      <td>Jmax</td>\n",
       "      <td>M40 &amp; M43 Combo</td>\n",
       "      <td>M40 &amp; M43 Combo</td>\n",
       "      <td>1399.0</td>\n",
       "      <td>1399.0</td>\n",
       "      <td>0</td>\n",
       "      <td>3.6</td>\n",
       "      <td>48</td>\n",
       "      <td>NaN</td>\n",
       "      <td>Dual Sim</td>\n",
       "      <td>...</td>\n",
       "      <td>1.3MP Rear Camera</td>\n",
       "      <td>No</td>\n",
       "      <td>NaN</td>\n",
       "      <td>32 MB</td>\n",
       "      <td>32 MB</td>\n",
       "      <td>NaN</td>\n",
       "      <td>NaN</td>\n",
       "      <td>Dedicated Slot</td>\n",
       "      <td>1050</td>\n",
       "      <td>8</td>\n",
       "    </tr>\n",
       "    <tr>\n",
       "      <th>944</th>\n",
       "      <td>Jmax</td>\n",
       "      <td>M40 &amp; M43 Combo</td>\n",
       "      <td>M40 &amp; M43 Combo</td>\n",
       "      <td>1399.0</td>\n",
       "      <td>1399.0</td>\n",
       "      <td>0</td>\n",
       "      <td>3.6</td>\n",
       "      <td>48</td>\n",
       "      <td>NaN</td>\n",
       "      <td>Dual Sim</td>\n",
       "      <td>...</td>\n",
       "      <td>1.3MP Rear Camera</td>\n",
       "      <td>No</td>\n",
       "      <td>NaN</td>\n",
       "      <td>32 MB</td>\n",
       "      <td>32 MB</td>\n",
       "      <td>NaN</td>\n",
       "      <td>NaN</td>\n",
       "      <td>Dedicated Slot</td>\n",
       "      <td>1050</td>\n",
       "      <td>8</td>\n",
       "    </tr>\n",
       "    <tr>\n",
       "      <th>945</th>\n",
       "      <td>Jmax</td>\n",
       "      <td>M40 &amp; M43 Combo</td>\n",
       "      <td>M40 &amp; M43 Combo</td>\n",
       "      <td>1399.0</td>\n",
       "      <td>1399.0</td>\n",
       "      <td>0</td>\n",
       "      <td>3.6</td>\n",
       "      <td>48</td>\n",
       "      <td>NaN</td>\n",
       "      <td>Dual Sim</td>\n",
       "      <td>...</td>\n",
       "      <td>1.3MP Rear Camera</td>\n",
       "      <td>No</td>\n",
       "      <td>NaN</td>\n",
       "      <td>32 MB</td>\n",
       "      <td>32 MB</td>\n",
       "      <td>NaN</td>\n",
       "      <td>NaN</td>\n",
       "      <td>Dedicated Slot</td>\n",
       "      <td>1050</td>\n",
       "      <td>8</td>\n",
       "    </tr>\n",
       "    <tr>\n",
       "      <th>952</th>\n",
       "      <td>Realme</td>\n",
       "      <td>X2 Pro</td>\n",
       "      <td>RMX1931</td>\n",
       "      <td>35999.0</td>\n",
       "      <td>35999.0</td>\n",
       "      <td>0</td>\n",
       "      <td>4.6</td>\n",
       "      <td>7531</td>\n",
       "      <td>Dual Nano Sim</td>\n",
       "      <td>Dual Sim</td>\n",
       "      <td>...</td>\n",
       "      <td>64MP + 13MP + 8MP + 2MP</td>\n",
       "      <td>Yes</td>\n",
       "      <td>16MP Front Camera</td>\n",
       "      <td>256 GB</td>\n",
       "      <td>12 GB</td>\n",
       "      <td>NaN</td>\n",
       "      <td>NaN</td>\n",
       "      <td>NaN</td>\n",
       "      <td>4000</td>\n",
       "      <td>1170</td>\n",
       "    </tr>\n",
       "  </tbody>\n",
       "</table>\n",
       "<p>199 rows × 24 columns</p>\n",
       "</div>"
      ],
      "text/plain": [
       "       Brand       Model_Name     Model_Number  Original_Price (₹)  \\\n",
       "11   Infinix     Smart 4 Plus            X680D              9999.0   \n",
       "12   Infinix     Smart 4 Plus            X680D              9999.0   \n",
       "13   Infinix     Smart 4 Plus            X680D              9999.0   \n",
       "16   Infinix          Smart 4             X680              8999.0   \n",
       "21    Realme              C11          RMX2185              8999.0   \n",
       "..       ...              ...              ...                 ...   \n",
       "942     Jmax  M40 & M43 Combo  M40 & M43 Combo              1399.0   \n",
       "943     Jmax  M40 & M43 Combo  M40 & M43 Combo              1399.0   \n",
       "944     Jmax  M40 & M43 Combo  M40 & M43 Combo              1399.0   \n",
       "945     Jmax  M40 & M43 Combo  M40 & M43 Combo              1399.0   \n",
       "952   Realme           X2 Pro          RMX1931             35999.0   \n",
       "\n",
       "     Offered_Price (₹)  Discount (%)  Rating  Rating_Count  \\\n",
       "11              7999.0            20     4.4        101866   \n",
       "12              7999.0            20     4.4        101866   \n",
       "13              7999.0            20     4.4        101866   \n",
       "16              6999.0            22     4.4          6294   \n",
       "21              7499.0            16     4.4        335783   \n",
       "..                 ...           ...     ...           ...   \n",
       "942             1399.0             0     3.6            48   \n",
       "943             1399.0             0     3.6            48   \n",
       "944             1399.0             0     3.6            48   \n",
       "945             1399.0             0     3.6            48   \n",
       "952            35999.0             0     4.6          7531   \n",
       "\n",
       "                             Sim_Size  Sim_Type  ...           Primary_Camera  \\\n",
       "11   Nano + Nano + Micro SD Card Slot  Dual Sim  ...      13MP + Depth Sensor   \n",
       "12   Nano + Nano + Micro SD Card Slot  Dual Sim  ...      13MP + Depth Sensor   \n",
       "13   Nano + Nano + Micro SD Card Slot  Dual Sim  ...      13MP + Depth Sensor   \n",
       "16                        Nano + Nano  Dual Sim  ...      13MP + Depth Sensor   \n",
       "21                        Nano + Nano  Dual Sim  ...               13MP + 2MP   \n",
       "..                                ...       ...  ...                      ...   \n",
       "942                               NaN  Dual Sim  ...        1.3MP Rear Camera   \n",
       "943                               NaN  Dual Sim  ...        1.3MP Rear Camera   \n",
       "944                               NaN  Dual Sim  ...        1.3MP Rear Camera   \n",
       "945                               NaN  Dual Sim  ...        1.3MP Rear Camera   \n",
       "952                     Dual Nano Sim  Dual Sim  ...  64MP + 13MP + 8MP + 2MP   \n",
       "\n",
       "    SCam_avl   Secondary_Camera Int_Memory (GB) RAM (GB)  \\\n",
       "11       Yes   8MP Front Camera           32 GB     3 GB   \n",
       "12       Yes   8MP Front Camera           32 GB     3 GB   \n",
       "13       Yes   8MP Front Camera           32 GB     3 GB   \n",
       "16       Yes   8MP Front Camera           32 GB     2 GB   \n",
       "21       Yes   5MP Front Camera           32 GB     2 GB   \n",
       "..       ...                ...             ...      ...   \n",
       "942       No                NaN           32 MB    32 MB   \n",
       "943       No                NaN           32 MB    32 MB   \n",
       "944       No                NaN           32 MB    32 MB   \n",
       "945       No                NaN           32 MB    32 MB   \n",
       "952      Yes  16MP Front Camera          256 GB    12 GB   \n",
       "\n",
       "    Expandable_Memory (GB) Memory_Card_Type Memory_Card_Slot Battery (mAh)  \\\n",
       "11                  256 GB          microSD   Dedicated Slot          6000   \n",
       "12                  256 GB          microSD   Dedicated Slot          6000   \n",
       "13                  256 GB          microSD   Dedicated Slot          6000   \n",
       "16                     NaN          microSD   Dedicated Slot          6000   \n",
       "21                  256 GB          microSD   Dedicated Slot          5000   \n",
       "..                     ...              ...              ...           ...   \n",
       "942                    NaN              NaN   Dedicated Slot          1050   \n",
       "943                    NaN              NaN   Dedicated Slot          1050   \n",
       "944                    NaN              NaN   Dedicated Slot          1050   \n",
       "945                    NaN              NaN   Dedicated Slot          1050   \n",
       "952                    NaN              NaN              NaN          4000   \n",
       "\n",
       "    Review_Count  \n",
       "11          9061  \n",
       "12          9061  \n",
       "13          9061  \n",
       "16           443  \n",
       "21         22759  \n",
       "..           ...  \n",
       "942            8  \n",
       "943            8  \n",
       "944            8  \n",
       "945            8  \n",
       "952         1170  \n",
       "\n",
       "[199 rows x 24 columns]"
      ]
     },
     "execution_count": 52,
     "metadata": {},
     "output_type": "execute_result"
    }
   ],
   "source": [
    "df1 = df[df.duplicated()]\n",
    "df1"
   ]
  },
  {
   "cell_type": "code",
   "execution_count": 53,
   "metadata": {},
   "outputs": [],
   "source": [
    "df=df.drop_duplicates()"
   ]
  },
  {
   "cell_type": "code",
   "execution_count": 54,
   "metadata": {},
   "outputs": [
    {
     "data": {
      "text/plain": [
       "(761, 24)"
      ]
     },
     "execution_count": 54,
     "metadata": {},
     "output_type": "execute_result"
    }
   ],
   "source": [
    "df.shape"
   ]
  },
  {
   "cell_type": "markdown",
   "metadata": {},
   "source": [
    "# Data Visualization"
   ]
  },
  {
   "cell_type": "code",
   "execution_count": 55,
   "metadata": {},
   "outputs": [
    {
     "data": {
      "image/png": "[encoded data removed]",
      "text/plain": [
       "<Figure size 864x432 with 1 Axes>"
      ]
     },
     "metadata": {
      "needs_background": "light"
     },
     "output_type": "display_data"
    }
   ],
   "source": [
    "fig = plt.figure(figsize = (12,6))\n",
    "sns.countplot(df['Rating'])\n",
    "plt.show()"
   ]
  },
  {
   "cell_type": "markdown",
   "metadata": {},
   "source": [
    "### Observation:\n",
    "#### - The satisfied customers showed interest give ratings and given majority of them above 3.5\n",
    "####  - 4.3 is given for a greater number of mobile phones.\n"
   ]
  },
  {
   "cell_type": "code",
   "execution_count": 56,
   "metadata": {},
   "outputs": [
    {
     "data": {
      "image/png": "[encoded data removed]",
      "text/plain": [
       "<Figure size 864x432 with 1 Axes>"
      ]
     },
     "metadata": {
      "needs_background": "light"
     },
     "output_type": "display_data"
    }
   ],
   "source": [
    "fig = plt.figure(figsize = (12,6))\n",
    "sns.scatterplot(x = 'Rating_Count', y = 'Rating', data = df)\n",
    "plt.show()"
   ]
  },
  {
   "cell_type": "markdown",
   "metadata": {},
   "source": [
    "### Observation:\n",
    "#### - Most of the Mobiles phones are rated above 4.0\n",
    "#### - The number of customers given rating below 4 are considerably less in number.\n",
    "#### - A very small number phones got rating count more than 4 Lakhs.\n",
    "#### - There are few mobiles phones which are not rated or Zero rating.\n",
    "#### - No one rated below 2.5.\n"
   ]
  },
  {
   "cell_type": "code",
   "execution_count": 57,
   "metadata": {},
   "outputs": [
    {
     "data": {
      "image/png": "[encoded data removed]",
      "text/plain": [
       "<Figure size 864x432 with 1 Axes>"
      ]
     },
     "metadata": {
      "needs_background": "light"
     },
     "output_type": "display_data"
    }
   ],
   "source": [
    "fig = plt.figure(figsize = (12,6))\n",
    "sns.scatterplot(x = 'Review_Count', y = 'Rating', data = df)\n",
    "plt.show()"
   ]
  },
  {
   "cell_type": "markdown",
   "metadata": {},
   "source": [
    "### Observation:\n",
    "#### - Mostly the people given rating are also reviewed the product. \n",
    "#### - We can see similarity between Rating_Count Vs Rating and Review_Count Vs Rating.\n"
   ]
  },
  {
   "cell_type": "code",
   "execution_count": 58,
   "metadata": {},
   "outputs": [
    {
     "data": {
      "image/png": "[encoded data removed]",
      "text/plain": [
       "<Figure size 864x432 with 1 Axes>"
      ]
     },
     "metadata": {
      "needs_background": "light"
     },
     "output_type": "display_data"
    }
   ],
   "source": [
    "fig = plt.figure(figsize = (12,6))\n",
    "sns.barplot(x=\"Rating\",y=\"Offered_Price (₹)\",data=df)\n",
    "plt.show()"
   ]
  },
  {
   "cell_type": "markdown",
   "metadata": {},
   "source": [
    "### Observation:\n",
    "#### -The phones with more than 20,000 Price are highly rated.\n",
    "#### -As the cost of the phone increases, the satisfaction index of the customers increased.\n"
   ]
  },
  {
   "cell_type": "code",
   "execution_count": 59,
   "metadata": {},
   "outputs": [
    {
     "data": {
      "image/png": "[encoded data removed]",
      "text/plain": [
       "<Figure size 864x432 with 1 Axes>"
      ]
     },
     "metadata": {
      "needs_background": "light"
     },
     "output_type": "display_data"
    }
   ],
   "source": [
    "fig = plt.figure(figsize = (12,6))\n",
    "sns.barplot(y=\"Review_Count\",x=\"Brand\",data=df)\n",
    "plt.xticks(rotation=90)\n",
    "plt.show()"
   ]
  },
  {
   "cell_type": "code",
   "execution_count": 60,
   "metadata": {},
   "outputs": [
    {
     "data": {
      "image/png": "[encoded data removed]",
      "text/plain": [
       "<Figure size 864x432 with 1 Axes>"
      ]
     },
     "metadata": {
      "needs_background": "light"
     },
     "output_type": "display_data"
    }
   ],
   "source": [
    "fig = plt.figure(figsize = (12,6))\n",
    "sns.barplot(y=\"Rating_Count\",x=\"Brand\",data=df)\n",
    "plt.xticks(rotation=90)\n",
    "plt.show()"
   ]
  },
  {
   "cell_type": "markdown",
   "metadata": {},
   "source": [
    "### Observation:\n",
    "#### -Though the Lenovo brand rated by many people the satisfaction index is distributed across all models. i.e few models received             very few ratings and few models received very high number of ratings.\n",
    "#### -The POCO brand is rated by many people in a consistent manner w.r.to number of ratings across all models.\n"
   ]
  },
  {
   "cell_type": "code",
   "execution_count": 61,
   "metadata": {},
   "outputs": [
    {
     "data": {
      "image/png": "[encoded data removed]",
      "text/plain": [
       "<Figure size 432x288 with 1 Axes>"
      ]
     },
     "metadata": {
      "needs_background": "light"
     },
     "output_type": "display_data"
    }
   ],
   "source": [
    "fig = plt.figure(figsize = (6,4))\n",
    "sns.barplot(y='Rating',x='PCam_Avl',data=df,palette='spring') \n",
    "plt.show()"
   ]
  },
  {
   "cell_type": "markdown",
   "metadata": {},
   "source": [
    "### Observation:\n",
    "#### -The rating is not really dependent the Primary camera availability.\n",
    "#### -Almost Phones with Primary Camera and without Camera got same rating.\n"
   ]
  },
  {
   "cell_type": "code",
   "execution_count": 62,
   "metadata": {},
   "outputs": [
    {
     "data": {
      "image/png": "[encoded data removed]",
      "text/plain": [
       "<Figure size 432x288 with 1 Axes>"
      ]
     },
     "metadata": {
      "needs_background": "light"
     },
     "output_type": "display_data"
    },
    {
     "data": {
      "text/plain": [
       "<Figure size 1008x432 with 0 Axes>"
      ]
     },
     "metadata": {},
     "output_type": "display_data"
    }
   ],
   "source": [
    "fig = plt.figure(figsize = (6,4))\n",
    "sns.barplot(y='Rating',x='SCam_avl',data=df,palette='spring') \n",
    "fig = plt.figure(figsize = (14,6))"
   ]
  },
  {
   "cell_type": "code",
   "execution_count": 63,
   "metadata": {},
   "outputs": [
    {
     "data": {
      "image/png": "[encoded data removed]",
      "text/plain": [
       "<Figure size 864x432 with 1 Axes>"
      ]
     },
     "metadata": {
      "needs_background": "light"
     },
     "output_type": "display_data"
    }
   ],
   "source": [
    "fig = plt.figure(figsize = (12,6))\n",
    "sns.barplot(x=\"Rating\",y=\"Discount (%)\",data=df)\n",
    "plt.show()"
   ]
  },
  {
   "cell_type": "markdown",
   "metadata": {},
   "source": [
    "### Observation:\n",
    "#### -The discount with 5% to 7% have ratings between 3.4 to 4.1.\n",
    "#### -Discount with more than 10% phones are rated above 4.1\n",
    "#### -Along with other features discount played vital role in rating."
   ]
  },
  {
   "cell_type": "code",
   "execution_count": 64,
   "metadata": {},
   "outputs": [
    {
     "data": {
      "image/png": "[encoded data removed]",
      "text/plain": [
       "<Figure size 864x432 with 1 Axes>"
      ]
     },
     "metadata": {
      "needs_background": "light"
     },
     "output_type": "display_data"
    }
   ],
   "source": [
    "fig = plt.figure(figsize = (12,6))\n",
    "sns.barplot(x=\"Rating\",y=\"Battery (mAh)\",data=df)\n",
    "plt.show()"
   ]
  },
  {
   "cell_type": "markdown",
   "metadata": {},
   "source": [
    "### Observation:\n",
    "#### -The phones with high Battery Capacity are rated high.\n",
    "#### -The Phones with above 300 mAh battery capacity are rated above 4.1.\n",
    "#### -The phones with battery capacity from 1000 mAh to 2000 mAh are rated between 3.4 to 4.1\n"
   ]
  }
 ],
 "metadata": {
  "kernelspec": {
   "display_name": "Python 3",
   "language": "python",
   "name": "python3"
  },
  "language_info": {
   "codemirror_mode": {
    "name": "ipython",
    "version": 3
   },
   "file_extension": ".py",
   "mimetype": "text/x-python",
   "name": "python",
   "nbconvert_exporter": "python",
   "pygments_lexer": "ipython3",
   "version": "3.7.6"
  }
 },
 "nbformat": 4,
 "nbformat_minor": 4
}
